{
  "nbformat": 4,
  "nbformat_minor": 0,
  "metadata": {
    "colab": {
      "provenance": []
    },
    "kernelspec": {
      "name": "python3",
      "display_name": "Python 3"
    },
    "language_info": {
      "name": "python"
    },
    "accelerator": "GPU",
    "gpuClass": "standard"
  },
  "cells": [
    {
      "cell_type": "code",
      "execution_count": 58,
      "metadata": {
        "id": "wF8h3Tm2mMEN"
      },
      "outputs": [],
      "source": [
        "import torch\n",
        "import torch.nn as nn \n",
        "import torchvision as tv \n",
        "import torch.nn.functional as F\n",
        "\n",
        "import numpy as np\n",
        "import matplotlib.pyplot as plt\n",
        "import cv2\n",
        "import os\n",
        "\n",
        "from tqdm import tqdm\n",
        "\n"
      ]
    },
    {
      "cell_type": "code",
      "source": [
        "transformation = tv.transforms.Compose(\n",
        "    [\n",
        "        tv.transforms.ToTensor()  # Pil To Tesnor\n",
        "\n",
        "\n",
        "    ]\n",
        "\n",
        ")"
      ],
      "metadata": {
        "id": "CqR8DlN2q9e7"
      },
      "execution_count": 38,
      "outputs": []
    },
    {
      "cell_type": "code",
      "source": [
        "ds_mnist = tv.datasets.MNIST('./datasets' , download = True , transform= transformation )\n",
        "\n"
      ],
      "metadata": {
        "id": "5mZ7CiWrpYxO"
      },
      "execution_count": 39,
      "outputs": []
    },
    {
      "cell_type": "code",
      "source": [
        "print(len(ds_mnist))\n",
        "print(ds_mnist[0])\n",
        "\n",
        "#60000 photos 28 x 28 , tuple ( image , label )"
      ],
      "metadata": {
        "colab": {
          "base_uri": "https://localhost:8080/"
        },
        "id": "DkpaZ9YrqKLq",
        "outputId": "88f885e8-4473-40c7-95f4-eb011b0746bc"
      },
      "execution_count": 40,
      "outputs": [
        {
          "output_type": "stream",
          "name": "stdout",
          "text": [
            "60000\n",
            "(tensor([[[0.0000, 0.0000, 0.0000, 0.0000, 0.0000, 0.0000, 0.0000, 0.0000,\n",
            "          0.0000, 0.0000, 0.0000, 0.0000, 0.0000, 0.0000, 0.0000, 0.0000,\n",
            "          0.0000, 0.0000, 0.0000, 0.0000, 0.0000, 0.0000, 0.0000, 0.0000,\n",
            "          0.0000, 0.0000, 0.0000, 0.0000],\n",
            "         [0.0000, 0.0000, 0.0000, 0.0000, 0.0000, 0.0000, 0.0000, 0.0000,\n",
            "          0.0000, 0.0000, 0.0000, 0.0000, 0.0000, 0.0000, 0.0000, 0.0000,\n",
            "          0.0000, 0.0000, 0.0000, 0.0000, 0.0000, 0.0000, 0.0000, 0.0000,\n",
            "          0.0000, 0.0000, 0.0000, 0.0000],\n",
            "         [0.0000, 0.0000, 0.0000, 0.0000, 0.0000, 0.0000, 0.0000, 0.0000,\n",
            "          0.0000, 0.0000, 0.0000, 0.0000, 0.0000, 0.0000, 0.0000, 0.0000,\n",
            "          0.0000, 0.0000, 0.0000, 0.0000, 0.0000, 0.0000, 0.0000, 0.0000,\n",
            "          0.0000, 0.0000, 0.0000, 0.0000],\n",
            "         [0.0000, 0.0000, 0.0000, 0.0000, 0.0000, 0.0000, 0.0000, 0.0000,\n",
            "          0.0000, 0.0000, 0.0000, 0.0000, 0.0000, 0.0000, 0.0000, 0.0000,\n",
            "          0.0000, 0.0000, 0.0000, 0.0000, 0.0000, 0.0000, 0.0000, 0.0000,\n",
            "          0.0000, 0.0000, 0.0000, 0.0000],\n",
            "         [0.0000, 0.0000, 0.0000, 0.0000, 0.0000, 0.0000, 0.0000, 0.0000,\n",
            "          0.0000, 0.0000, 0.0000, 0.0000, 0.0000, 0.0000, 0.0000, 0.0000,\n",
            "          0.0000, 0.0000, 0.0000, 0.0000, 0.0000, 0.0000, 0.0000, 0.0000,\n",
            "          0.0000, 0.0000, 0.0000, 0.0000],\n",
            "         [0.0000, 0.0000, 0.0000, 0.0000, 0.0000, 0.0000, 0.0000, 0.0000,\n",
            "          0.0000, 0.0000, 0.0000, 0.0000, 0.0118, 0.0706, 0.0706, 0.0706,\n",
            "          0.4941, 0.5333, 0.6863, 0.1020, 0.6510, 1.0000, 0.9686, 0.4980,\n",
            "          0.0000, 0.0000, 0.0000, 0.0000],\n",
            "         [0.0000, 0.0000, 0.0000, 0.0000, 0.0000, 0.0000, 0.0000, 0.0000,\n",
            "          0.1176, 0.1412, 0.3686, 0.6039, 0.6667, 0.9922, 0.9922, 0.9922,\n",
            "          0.9922, 0.9922, 0.8824, 0.6745, 0.9922, 0.9490, 0.7647, 0.2510,\n",
            "          0.0000, 0.0000, 0.0000, 0.0000],\n",
            "         [0.0000, 0.0000, 0.0000, 0.0000, 0.0000, 0.0000, 0.0000, 0.1922,\n",
            "          0.9333, 0.9922, 0.9922, 0.9922, 0.9922, 0.9922, 0.9922, 0.9922,\n",
            "          0.9922, 0.9843, 0.3647, 0.3216, 0.3216, 0.2196, 0.1529, 0.0000,\n",
            "          0.0000, 0.0000, 0.0000, 0.0000],\n",
            "         [0.0000, 0.0000, 0.0000, 0.0000, 0.0000, 0.0000, 0.0000, 0.0706,\n",
            "          0.8588, 0.9922, 0.9922, 0.9922, 0.9922, 0.9922, 0.7765, 0.7137,\n",
            "          0.9686, 0.9451, 0.0000, 0.0000, 0.0000, 0.0000, 0.0000, 0.0000,\n",
            "          0.0000, 0.0000, 0.0000, 0.0000],\n",
            "         [0.0000, 0.0000, 0.0000, 0.0000, 0.0000, 0.0000, 0.0000, 0.0000,\n",
            "          0.3137, 0.6118, 0.4196, 0.9922, 0.9922, 0.8039, 0.0431, 0.0000,\n",
            "          0.1686, 0.6039, 0.0000, 0.0000, 0.0000, 0.0000, 0.0000, 0.0000,\n",
            "          0.0000, 0.0000, 0.0000, 0.0000],\n",
            "         [0.0000, 0.0000, 0.0000, 0.0000, 0.0000, 0.0000, 0.0000, 0.0000,\n",
            "          0.0000, 0.0549, 0.0039, 0.6039, 0.9922, 0.3529, 0.0000, 0.0000,\n",
            "          0.0000, 0.0000, 0.0000, 0.0000, 0.0000, 0.0000, 0.0000, 0.0000,\n",
            "          0.0000, 0.0000, 0.0000, 0.0000],\n",
            "         [0.0000, 0.0000, 0.0000, 0.0000, 0.0000, 0.0000, 0.0000, 0.0000,\n",
            "          0.0000, 0.0000, 0.0000, 0.5451, 0.9922, 0.7451, 0.0078, 0.0000,\n",
            "          0.0000, 0.0000, 0.0000, 0.0000, 0.0000, 0.0000, 0.0000, 0.0000,\n",
            "          0.0000, 0.0000, 0.0000, 0.0000],\n",
            "         [0.0000, 0.0000, 0.0000, 0.0000, 0.0000, 0.0000, 0.0000, 0.0000,\n",
            "          0.0000, 0.0000, 0.0000, 0.0431, 0.7451, 0.9922, 0.2745, 0.0000,\n",
            "          0.0000, 0.0000, 0.0000, 0.0000, 0.0000, 0.0000, 0.0000, 0.0000,\n",
            "          0.0000, 0.0000, 0.0000, 0.0000],\n",
            "         [0.0000, 0.0000, 0.0000, 0.0000, 0.0000, 0.0000, 0.0000, 0.0000,\n",
            "          0.0000, 0.0000, 0.0000, 0.0000, 0.1373, 0.9451, 0.8824, 0.6275,\n",
            "          0.4235, 0.0039, 0.0000, 0.0000, 0.0000, 0.0000, 0.0000, 0.0000,\n",
            "          0.0000, 0.0000, 0.0000, 0.0000],\n",
            "         [0.0000, 0.0000, 0.0000, 0.0000, 0.0000, 0.0000, 0.0000, 0.0000,\n",
            "          0.0000, 0.0000, 0.0000, 0.0000, 0.0000, 0.3176, 0.9412, 0.9922,\n",
            "          0.9922, 0.4667, 0.0980, 0.0000, 0.0000, 0.0000, 0.0000, 0.0000,\n",
            "          0.0000, 0.0000, 0.0000, 0.0000],\n",
            "         [0.0000, 0.0000, 0.0000, 0.0000, 0.0000, 0.0000, 0.0000, 0.0000,\n",
            "          0.0000, 0.0000, 0.0000, 0.0000, 0.0000, 0.0000, 0.1765, 0.7294,\n",
            "          0.9922, 0.9922, 0.5882, 0.1059, 0.0000, 0.0000, 0.0000, 0.0000,\n",
            "          0.0000, 0.0000, 0.0000, 0.0000],\n",
            "         [0.0000, 0.0000, 0.0000, 0.0000, 0.0000, 0.0000, 0.0000, 0.0000,\n",
            "          0.0000, 0.0000, 0.0000, 0.0000, 0.0000, 0.0000, 0.0000, 0.0627,\n",
            "          0.3647, 0.9882, 0.9922, 0.7333, 0.0000, 0.0000, 0.0000, 0.0000,\n",
            "          0.0000, 0.0000, 0.0000, 0.0000],\n",
            "         [0.0000, 0.0000, 0.0000, 0.0000, 0.0000, 0.0000, 0.0000, 0.0000,\n",
            "          0.0000, 0.0000, 0.0000, 0.0000, 0.0000, 0.0000, 0.0000, 0.0000,\n",
            "          0.0000, 0.9765, 0.9922, 0.9765, 0.2510, 0.0000, 0.0000, 0.0000,\n",
            "          0.0000, 0.0000, 0.0000, 0.0000],\n",
            "         [0.0000, 0.0000, 0.0000, 0.0000, 0.0000, 0.0000, 0.0000, 0.0000,\n",
            "          0.0000, 0.0000, 0.0000, 0.0000, 0.0000, 0.0000, 0.1804, 0.5098,\n",
            "          0.7176, 0.9922, 0.9922, 0.8118, 0.0078, 0.0000, 0.0000, 0.0000,\n",
            "          0.0000, 0.0000, 0.0000, 0.0000],\n",
            "         [0.0000, 0.0000, 0.0000, 0.0000, 0.0000, 0.0000, 0.0000, 0.0000,\n",
            "          0.0000, 0.0000, 0.0000, 0.0000, 0.1529, 0.5804, 0.8980, 0.9922,\n",
            "          0.9922, 0.9922, 0.9804, 0.7137, 0.0000, 0.0000, 0.0000, 0.0000,\n",
            "          0.0000, 0.0000, 0.0000, 0.0000],\n",
            "         [0.0000, 0.0000, 0.0000, 0.0000, 0.0000, 0.0000, 0.0000, 0.0000,\n",
            "          0.0000, 0.0000, 0.0941, 0.4471, 0.8667, 0.9922, 0.9922, 0.9922,\n",
            "          0.9922, 0.7882, 0.3059, 0.0000, 0.0000, 0.0000, 0.0000, 0.0000,\n",
            "          0.0000, 0.0000, 0.0000, 0.0000],\n",
            "         [0.0000, 0.0000, 0.0000, 0.0000, 0.0000, 0.0000, 0.0000, 0.0000,\n",
            "          0.0902, 0.2588, 0.8353, 0.9922, 0.9922, 0.9922, 0.9922, 0.7765,\n",
            "          0.3176, 0.0078, 0.0000, 0.0000, 0.0000, 0.0000, 0.0000, 0.0000,\n",
            "          0.0000, 0.0000, 0.0000, 0.0000],\n",
            "         [0.0000, 0.0000, 0.0000, 0.0000, 0.0000, 0.0000, 0.0706, 0.6706,\n",
            "          0.8588, 0.9922, 0.9922, 0.9922, 0.9922, 0.7647, 0.3137, 0.0353,\n",
            "          0.0000, 0.0000, 0.0000, 0.0000, 0.0000, 0.0000, 0.0000, 0.0000,\n",
            "          0.0000, 0.0000, 0.0000, 0.0000],\n",
            "         [0.0000, 0.0000, 0.0000, 0.0000, 0.2157, 0.6745, 0.8863, 0.9922,\n",
            "          0.9922, 0.9922, 0.9922, 0.9569, 0.5216, 0.0431, 0.0000, 0.0000,\n",
            "          0.0000, 0.0000, 0.0000, 0.0000, 0.0000, 0.0000, 0.0000, 0.0000,\n",
            "          0.0000, 0.0000, 0.0000, 0.0000],\n",
            "         [0.0000, 0.0000, 0.0000, 0.0000, 0.5333, 0.9922, 0.9922, 0.9922,\n",
            "          0.8314, 0.5294, 0.5176, 0.0627, 0.0000, 0.0000, 0.0000, 0.0000,\n",
            "          0.0000, 0.0000, 0.0000, 0.0000, 0.0000, 0.0000, 0.0000, 0.0000,\n",
            "          0.0000, 0.0000, 0.0000, 0.0000],\n",
            "         [0.0000, 0.0000, 0.0000, 0.0000, 0.0000, 0.0000, 0.0000, 0.0000,\n",
            "          0.0000, 0.0000, 0.0000, 0.0000, 0.0000, 0.0000, 0.0000, 0.0000,\n",
            "          0.0000, 0.0000, 0.0000, 0.0000, 0.0000, 0.0000, 0.0000, 0.0000,\n",
            "          0.0000, 0.0000, 0.0000, 0.0000],\n",
            "         [0.0000, 0.0000, 0.0000, 0.0000, 0.0000, 0.0000, 0.0000, 0.0000,\n",
            "          0.0000, 0.0000, 0.0000, 0.0000, 0.0000, 0.0000, 0.0000, 0.0000,\n",
            "          0.0000, 0.0000, 0.0000, 0.0000, 0.0000, 0.0000, 0.0000, 0.0000,\n",
            "          0.0000, 0.0000, 0.0000, 0.0000],\n",
            "         [0.0000, 0.0000, 0.0000, 0.0000, 0.0000, 0.0000, 0.0000, 0.0000,\n",
            "          0.0000, 0.0000, 0.0000, 0.0000, 0.0000, 0.0000, 0.0000, 0.0000,\n",
            "          0.0000, 0.0000, 0.0000, 0.0000, 0.0000, 0.0000, 0.0000, 0.0000,\n",
            "          0.0000, 0.0000, 0.0000, 0.0000]]]), 5)\n"
          ]
        }
      ]
    },
    {
      "cell_type": "code",
      "source": [
        "print(ds_mnist[0])\n",
        "ds_mnist[0][0].shape # After transformation"
      ],
      "metadata": {
        "colab": {
          "base_uri": "https://localhost:8080/"
        },
        "id": "HjIg8HgAqaIc",
        "outputId": "100cc557-2b19-47bb-a3d9-d270279eee15"
      },
      "execution_count": 14,
      "outputs": [
        {
          "output_type": "execute_result",
          "data": {
            "text/plain": [
              "torch.Size([1, 28, 28])"
            ]
          },
          "metadata": {},
          "execution_count": 14
        }
      ]
    },
    {
      "cell_type": "code",
      "source": [
        "ds_mnist[0][0].numpy()[0].shape  #Почему то если написать [0] после нумпая то удаляется первая размерность"
      ],
      "metadata": {
        "colab": {
          "base_uri": "https://localhost:8080/"
        },
        "id": "GJXDSZ-Nr1B8",
        "outputId": "1686e411-b1c8-4210-8b59-7bfaf8ad3979"
      },
      "execution_count": 19,
      "outputs": [
        {
          "output_type": "execute_result",
          "data": {
            "text/plain": [
              "(28, 28)"
            ]
          },
          "metadata": {},
          "execution_count": 19
        }
      ]
    },
    {
      "cell_type": "code",
      "source": [
        "ds_mnist[0][0].numpy().squeeze(0).shape # Сквиз тоже все по кайфу удалил"
      ],
      "metadata": {
        "colab": {
          "base_uri": "https://localhost:8080/"
        },
        "id": "eqPMpW9Lr_66",
        "outputId": "347ed3c4-83ea-4eb7-ac10-bec1a6aeee7c"
      },
      "execution_count": 23,
      "outputs": [
        {
          "output_type": "execute_result",
          "data": {
            "text/plain": [
              "(28, 28)"
            ]
          },
          "metadata": {},
          "execution_count": 23
        }
      ]
    },
    {
      "cell_type": "code",
      "source": [
        "plt.imshow( ds_mnist[1][0].numpy().squeeze(0))  # 1 картинка\n",
        "\n",
        "#ds_mnist  - датасет [1] - первый кортеж [0] - 1 элемент в кортеже (картинка) .numpy() - трансфер нумпай .squeeze(0) - удалить размерностть 1 "
      ],
      "metadata": {
        "colab": {
          "base_uri": "https://localhost:8080/",
          "height": 447
        },
        "id": "sAyTPD3JsTJG",
        "outputId": "4d541ff1-4691-4a79-9eda-f997d4ca57fb"
      },
      "execution_count": 24,
      "outputs": [
        {
          "output_type": "execute_result",
          "data": {
            "text/plain": [
              "<matplotlib.image.AxesImage at 0x7f09a7715370>"
            ]
          },
          "metadata": {},
          "execution_count": 24
        },
        {
          "output_type": "display_data",
          "data": {
            "text/plain": [
              "<Figure size 640x480 with 1 Axes>"
            ],
            "image/png": "[encoded data removed]"
          },
          "metadata": {}
        }
      ]
    },
    {
      "cell_type": "code",
      "source": [
        "batch_size = 16\n",
        "dataloader = torch.utils.data.DataLoader(ds_mnist ,\n",
        "                                         batch_size = batch_size ,\n",
        "                                         shuffle = True , \n",
        "                                         num_workers= 0 , \n",
        "                                         drop_last = True \n",
        "                                         )\n",
        "# num workers - количество парралельный потоков , 0 - все\n",
        "# Drop Last не дает генерировать маленькие датасеты (??)\n"
      ],
      "metadata": {
        "id": "qthRcoFWsx3C"
      },
      "execution_count": 26,
      "outputs": []
    },
    {
      "cell_type": "code",
      "source": [
        "for image , label  in dataloader :\n",
        "  print(image.shape)\n",
        "  print(label)\n",
        "  break\n",
        "\n",
        "\n",
        "  # BCHW"
      ],
      "metadata": {
        "colab": {
          "base_uri": "https://localhost:8080/"
        },
        "id": "OUuyJcp2tven",
        "outputId": "8928744e-5401-46e0-92eb-ef102bc9dac7"
      },
      "execution_count": 31,
      "outputs": [
        {
          "output_type": "stream",
          "name": "stdout",
          "text": [
            "torch.Size([16, 1, 28, 28])\n",
            "tensor([4, 2, 4, 9, 3, 2, 6, 6, 0, 2, 4, 6, 3, 1, 2, 9])\n"
          ]
        }
      ]
    },
    {
      "cell_type": "markdown",
      "source": [
        "Функция активации добавляет нелинейности"
      ],
      "metadata": {
        "id": "S6HjYV6Oy4C9"
      }
    },
    {
      "cell_type": "code",
      "source": [
        "class Neural_numbers(nn.Module):\n",
        "  #Arch и ее блоки\n",
        "  def __init__(self):\n",
        "        # импортим свойства nn.Module\n",
        "        super().__init__() \n",
        "        self.flat = nn.Flatten()\n",
        "        self.linear1 = nn.Linear(28*28 , 100)\n",
        "        self.linear2 = nn.Linear( 100 , 10 )\n",
        "\n",
        "        self.act = nn.ReLU()\n",
        "        \n",
        "       # self.model = nn.Sequential( linear1 , act , linear2)\n",
        "   # как будут перемещаться тензоры в нейронной сети      \n",
        "  def forward(self, x): # x - tensor \n",
        "    out = self.flat(x)\n",
        "    out = self.linear1(out)\n",
        "    out = self.act(out)\n",
        "    out = self.linear2(out)\n",
        "\n",
        "    return out\n",
        "        \n",
        "\n",
        "        "
      ],
      "metadata": {
        "id": "4AMr4GDEt82s"
      },
      "execution_count": 41,
      "outputs": []
    },
    {
      "cell_type": "code",
      "source": [
        "model = Neural_numbers()"
      ],
      "metadata": {
        "id": "pHYUYlt_6x0P"
      },
      "execution_count": 42,
      "outputs": []
    },
    {
      "cell_type": "code",
      "source": [
        "loss_fn = nn.CrossEntropyLoss()\n",
        "optimizer = torch.optim.SGD( model.parameters() , lr = 1e-3 , momentum = 0.9)"
      ],
      "metadata": {
        "id": "CQ9slWyr0dO6"
      },
      "execution_count": 43,
      "outputs": []
    },
    {
      "cell_type": "code",
      "source": [
        "def accuracy(pred , label) :\n",
        "    \n",
        "    answer = F.softmax(pred.detach()).numpy().argmax(1)  == label.numpy().argmax(1)\n",
        "    \n",
        "    return answer.mean()"
      ],
      "metadata": {
        "id": "fjKmy9WlKsNU"
      },
      "execution_count": 89,
      "outputs": []
    },
    {
      "cell_type": "code",
      "source": [
        "epochs = 10 \n",
        "\n",
        "for epoch in range(epochs):\n",
        "\n",
        "  loss_val = 0 \n",
        "  acc_val = 0 \n",
        "\n",
        "  for img , label in (pbar := tqdm(dataloader)) : # просто запомнить визуализация\n",
        "    optimizer.zero_grad() #  Обнови градиенты (в нуль их так как новые будем считать, чтобы они не наслаивались)\n",
        "    label = nn.functional.one_hot( label , 10 ).float() # 1 - > [ 1, 0 ... 0 ]\n",
        "    pred = model(img) # vector вероятностей [ 0 , 0 , 0 , 1 ... 0 ] для тройки\n",
        "\n",
        "    loss = loss_fn(pred , label) # мы сделали pred & label одного вида чтобы их сравнить\n",
        "\n",
        "\n",
        "    loss.backward() # считает градиенты\n",
        "\n",
        "    loss_item = loss.item()\n",
        "    loss_val += loss_item\n",
        "\n",
        "    acc_current = accuracy(pred , label)\n",
        "    acc_val  += acc_current\n",
        "    optimizer.step() # шагаем оптимайзером , считаем веса \n",
        "\n",
        "  \n",
        "   # .4 - 4 знака после запятой .4f - norm forma , .4e - nauchnaya forma \n",
        "    pbar.set_description(f'loss : {loss_item:.4f}\\taccuracy : {acc_current:.3f}')  # ПРОСТО ЗАПОМНИТЬ прогресс лосса \n",
        "  print( f'epoch {epoch + 1 }' , f' loss_val : {loss_val / len(dataloader) }'\n",
        "  , f'acc_val : {acc_val / len(dataloader)}')"
      ],
      "metadata": {
        "colab": {
          "base_uri": "https://localhost:8080/"
        },
        "id": "N3vpACvK7NX8",
        "outputId": "5501bddf-ae6a-4ecb-9bc1-62faf6115555"
      },
      "execution_count": 90,
      "outputs": [
        {
          "output_type": "stream",
          "name": "stderr",
          "text": [
            "  0%|          | 0/3750 [00:00<?, ?it/s]<ipython-input-89-758b855bc9b3>:3: UserWarning: Implicit dimension choice for softmax has been deprecated. Change the call to include dim=X as an argument.\n",
            "  answer = F.softmax(pred.detach()).numpy().argmax(1)  == label.numpy().argmax(1)\n",
            "loss : 0.0044\taccuracy : 1.000: 100%|██████████| 3750/3750 [00:27<00:00, 138.16it/s]\n"
          ]
        },
        {
          "output_type": "stream",
          "name": "stdout",
          "text": [
            "epoch 1  loss_val : 0.06205225557114463 acc_val : 0.9828166666666667\n"
          ]
        },
        {
          "output_type": "stream",
          "name": "stderr",
          "text": [
            "loss : 0.0620\taccuracy : 1.000: 100%|██████████| 3750/3750 [00:28<00:00, 129.44it/s]\n"
          ]
        },
        {
          "output_type": "stream",
          "name": "stdout",
          "text": [
            "epoch 2  loss_val : 0.05967033684705384 acc_val : 0.9836\n"
          ]
        },
        {
          "output_type": "stream",
          "name": "stderr",
          "text": [
            "loss : 0.0074\taccuracy : 1.000: 100%|██████████| 3750/3750 [00:27<00:00, 135.02it/s]\n"
          ]
        },
        {
          "output_type": "stream",
          "name": "stdout",
          "text": [
            "epoch 3  loss_val : 0.057139749604742975 acc_val : 0.9843666666666666\n"
          ]
        },
        {
          "output_type": "stream",
          "name": "stderr",
          "text": [
            "loss : 0.0493\taccuracy : 1.000: 100%|██████████| 3750/3750 [00:27<00:00, 135.95it/s]\n"
          ]
        },
        {
          "output_type": "stream",
          "name": "stdout",
          "text": [
            "epoch 4  loss_val : 0.055188337854187315 acc_val : 0.9849833333333333\n"
          ]
        },
        {
          "output_type": "stream",
          "name": "stderr",
          "text": [
            "loss : 0.8777\taccuracy : 0.938: 100%|██████████| 3750/3750 [00:27<00:00, 137.03it/s]\n"
          ]
        },
        {
          "output_type": "stream",
          "name": "stdout",
          "text": [
            "epoch 5  loss_val : 0.05320642729131505 acc_val : 0.9857833333333333\n"
          ]
        },
        {
          "output_type": "stream",
          "name": "stderr",
          "text": [
            "loss : 0.0007\taccuracy : 1.000: 100%|██████████| 3750/3750 [00:26<00:00, 139.12it/s]\n"
          ]
        },
        {
          "output_type": "stream",
          "name": "stdout",
          "text": [
            "epoch 6  loss_val : 0.051216599989434085 acc_val : 0.9866666666666667\n"
          ]
        },
        {
          "output_type": "stream",
          "name": "stderr",
          "text": [
            "loss : 0.0037\taccuracy : 1.000: 100%|██████████| 3750/3750 [00:27<00:00, 138.27it/s]\n"
          ]
        },
        {
          "output_type": "stream",
          "name": "stdout",
          "text": [
            "epoch 7  loss_val : 0.04952727123949056 acc_val : 0.9870833333333333\n"
          ]
        },
        {
          "output_type": "stream",
          "name": "stderr",
          "text": [
            "loss : 0.0465\taccuracy : 1.000: 100%|██████████| 3750/3750 [00:27<00:00, 138.07it/s]\n"
          ]
        },
        {
          "output_type": "stream",
          "name": "stdout",
          "text": [
            "epoch 8  loss_val : 0.04805616319005688 acc_val : 0.9876\n"
          ]
        },
        {
          "output_type": "stream",
          "name": "stderr",
          "text": [
            "loss : 0.0246\taccuracy : 1.000: 100%|██████████| 3750/3750 [00:27<00:00, 137.30it/s]\n"
          ]
        },
        {
          "output_type": "stream",
          "name": "stdout",
          "text": [
            "epoch 9  loss_val : 0.04626491624065675 acc_val : 0.9880166666666667\n"
          ]
        },
        {
          "output_type": "stream",
          "name": "stderr",
          "text": [
            "loss : 0.0196\taccuracy : 1.000: 100%|██████████| 3750/3750 [00:26<00:00, 138.97it/s]"
          ]
        },
        {
          "output_type": "stream",
          "name": "stdout",
          "text": [
            "epoch 10  loss_val : 0.044805342092070106 acc_val : 0.9884\n"
          ]
        },
        {
          "output_type": "stream",
          "name": "stderr",
          "text": [
            "\n"
          ]
        }
      ]
    },
    {
      "cell_type": "code",
      "source": [],
      "metadata": {
        "id": "2BL1zHW-BHfH"
      },
      "execution_count": null,
      "outputs": []
    },
    {
      "cell_type": "code",
      "source": [
        "# сколько параметров у модели / веса \n",
        "\n",
        "def count_parameters(model):\n",
        "  return sum( p.numel() for p in model.parameters() if p.requires_grad ) \n"
      ],
      "metadata": {
        "id": "zDd2Tg53AayT"
      },
      "execution_count": 48,
      "outputs": []
    },
    {
      "cell_type": "code",
      "source": [
        "count_parameters(model)"
      ],
      "metadata": {
        "colab": {
          "base_uri": "https://localhost:8080/"
        },
        "id": "pHp1MITABI9e",
        "outputId": "68c39877-ba42-4257-f143-80234efbd06a"
      },
      "execution_count": 49,
      "outputs": [
        {
          "output_type": "execute_result",
          "data": {
            "text/plain": [
              "79510"
            ]
          },
          "metadata": {},
          "execution_count": 49
        }
      ]
    },
    {
      "cell_type": "code",
      "source": [
        "# score func with print\n",
        "\n",
        "def accuracy_winfo(pred , label) :\n",
        "    print(pred) #  каждая отд предсказ в батче [  1.7303,  -0.8463,   1.5196,  -0.1102,  -4.0838,   6.4148,   0.0319, -2.1025,   2.8522,  -2.0271]\n",
        "    print(pred.shape) # 16 x 10 предсказания одного батча \n",
        "    print(F.softmax(pred.detach())) # act func \n",
        "    print(F.softmax(pred.detach()).argmax(1) ) # в каждой из 16 выбирается наибольшее [5, 8, 4, 9, 1, 2, 6, 0, 1, 6, 1, 2, 7, 7, 2, 9]\n",
        "    print(label)\n",
        "    print(label.argmax(1))\n",
        "    answer = F.softmax(pred.detach()).argmax(1)  == label.argmax(1)\n",
        "    print(answer.sum())\n",
        "    return answer.sum()"
      ],
      "metadata": {
        "id": "I4CoLP6BBKyC"
      },
      "execution_count": 75,
      "outputs": []
    },
    {
      "cell_type": "markdown",
      "source": [
        "label vs label + argmax"
      ],
      "metadata": {
        "id": "V5aXtVbhI0Ai"
      }
    },
    {
      "cell_type": "markdown",
      "source": [
        "![image.png](data:image/png;base64,iVBORw0KGgoAAAANSUhEUgAAAdoAAAEuCAYAAAAp59OgAAAgAElEQVR4nO2dQWgbWbb+v/xpLaSE4dlBGOth9GZj3K6NIV40JuIRIyToMDjgjMArLyoLbwTBC+9Si/aigxcmoI0Wo0U2MZhuiGmmIQ/jTYJXXvg9KDvoLZogWsGItoeglphR4P0X4lbLim2pSnXrlnS/H8xiOvY9ss6pe+ree+75bn3zzTf/B0IIIYRI4f+p/gCEEELIKMNESwghhEjkK9UfYBQwDAOmaeLnn3/G/v6+898ty0IymQQA/Pbbb3jx4gWq1SoAIJ1O4/Hjx4hEIgCAN2/eYHd3N/gPTwghPeicr1qtFn744YdLcx25mVAkWsuycHFxgUKhoPqjuCaRSGB1dRW//PLLlYF3fHx87d/VaDRQKpVg2/YX/5bP5zE3N+f8XLFYvPLn/CaRSODp06e4e/cuAODDhw/47rvvpNsF2i8sa2triMViAG7+7kbJdi6XQzabBQAlk5hlWUgkEoHa1TXOVPp6ENv7+/vY3993FhXEHdw6HpDl5WUAwI8//ujbmLlcDtPT09je3oZpmqjValhdXUUikfDNxnU8efIE9Xodpmlie3sb8Xgc+Xxeul3xwlIul2GaJnZ2dmAYBnK53EjbTqfTSKVS2NnZgWmasG0bS0tLMAxDum3DMFAoFPD777+j1WpJt9eJjnGm0tcqbRPFK9rOVVsymUSpVAJw+e32prfPXC6HmZkZXFxcOON0/nv3W3P3yrB7+7bTbjqdxrfffou///3vePToEWKx2Bfbv4Zh4M9//jN+/vln578NSiKRwPz8PMrlsvM5Dw8PsbS0hNnZWd/sXEU6nUY8Hsfe3h4AwLZtlMtlTE1NIZFISLV9//59RKNRHBwcAGi/QS8sLGBmZkaazTDYXlhYQK1Wc1YWBwcHmJ6ehmEY0ncw/vKXvzi+/o//+A+ptjrRNc5U+lqlbaJ4RVsoFGCaJj58+IDj42OYpgnTNJ1k1/32ub29jenp6Utvn8lkEmNjYzBNE2/evHGCB2ivNsVbs2mayOfzTlAZhoGlpSUcHBxc+1Ydi8Xw17/+FXt7e9je3kY0GsX9+/edfzcMA58/f8bJyYlv38nY2Bi++uornJ6eXvqcsVgM4+Pjvtm5ivHxcTSbTefvyeVymJubQzQaxdjYmFTbExMTqNVqjn/y+TySySTu3LkjfSWvynYikcCdO3fw/v175/+vrq4iFothYmJCml3B8+fPlZyz6RhnKn2tOs5IyLeOZ2dn8c9//tPZlhVvvp1vn7/99hv+9re/Of/earUwOTnp/Hs8Hr9ye2RxcRHNZhPv3r1zfvft27fOW7Xg4OAA+/v7sG0btVrtUmBOTEygXq9LeQOPRqPY2trC+vo63r59iw8fPgT2UNy7dw/FYhGpVAqvXr364juVSS6XQ6lUwtTUFF6/fo2vvvpK+uQbBtuWZWFzcxOVSgXHx8eB2VWJrnGm0tc6xlkYCEUx1HWMj48jkUhgc3Pz0n//8OFDX79fKBRgWRbW19cBfFn00CtJNhqNS9sq3cUasoI0Eong0aNHTiWy2E4Wb6QyuXv3LjKZDAqFAmzbRjqdBgB8/PhRum2xsnj27Bmq1SpyuRw+f/6Mi4uLkbadzWZxfHzsxJcoDhxldI0zlb7WMc7CQqgTLfDltRi3dJ/15vN5J9mK7SIxttsV48XFhe/J9uLiAs1mE+Vy2bnuI7aTz8/PfbXVzfn5ORqNBvb29pwXjPHx8UAmobOzMzQaDbx8+fKSP2TtGITBdrVaRb1eR71ev1RX0LnNN4roGGcqfa1rnIWJUGwdX1xcfLFlC7S3c6PRqFPZO6iNZrPp/P/T01P86U9/cs5cDcPA9PQ0jo6O+n7gzs7OfD/bqVarqFQqMAzDectfXFz84iw4nU6jWCxia2vrSvtia8yyrL5tn5ycoNlsIpPJIJFIOCvpSqVy6TvpNbZlWSiVSq4qOcWEK3wt/NE9Edw0diKRwNbWForFovPd+WW719i9/HEd79+/RzKZdP4eUazTuZPSy7YXX/dLr7/Li691jTM/fC0zzryOLfDiD10IxYr2xx9/xNOnT50tYlH9a9s2isUi1tbWnIpkoL/mDt0Vx2Jc8UYnikAeP37s3C07Pj521TTCtm2kUincv3/f12YThUIB+XweKysrWFlZ8bSqF5+te9V+E9VqFS9evLjkCy93DMVD7WaH4Cpfu23iIV5S5ubmXBWO+WH75OQEnz59cgp6+vWVsJHNZpHNZj3dmfbia+By1T8ArKys4PHjx67uV3rxta5x5oevVcZZL7z4QxduUVRgMPL5PKampq5MhDc14hDXh65rWDEo4kWjXq8H1ghAIK5NHRwcBN7tKpfLYXFxUUnnGsuycOfOnYGOOrygq68ZZ8HGGXB9FzxArT/CTihWtMOMWI0vLy+HprOVWKkE2W0HuLyLEHRLSXEGH4lEAp/8RMedQesJvKCjrxlnwcfZTaj0x7DAFa0PsNcxIWSUYa/jwWCiJYQQQiQSiqpjQgghZFRhoiWEEEIkwkRLCCGESISJlhBCCJEIr/coglXHhJBhgVXHg8FEq5BGo3Ftw4rOrj0yurhcR3dHrSDvZ96kPTzKtsX9SACBT2KMs2B9DfzxnQf9cj1InO3v72N/f9+5ykjcwa3jEJLL5TA9PY3t7W2YpolarYbV1VXpuqwA8OTJE0fD9yqNXll0aw/v7OzAMIxA+qaqtJ1Op5FKpbCzswPTNGHbNpaWlq6UdvQbxlnwcba1tYXbt2+j0WhIt9eJyjgjTLShQzRYL5fLzsri8PAQ0WgUs7OzUm2n02nE43EcHh4C+EP/9yrBB78RTc4PDg4AtN+gq9XqJe3hUbS9sLCAWq3mrCzEZ5A9ATLOgvf18vIyjo6O8NNPP0m31Y2qOCNtmGhDhpDEOz09BdB+EJaWlhCLxVw1MPfC+Pg4ms2moxKUy+UwNzfnNDCXycTEBGq1mjPp5/N5RzdU9uSryna3VJlYbcViMemN2RlnwcdZoVBQUoehMs5IG57RhpRoNIqtrS2nf+jMzExgD8W9e/dgWRZarRZevXqFhw8fYnJyMpCzu85+rq9fv8aDBw9cqZQMq23RrvP4+BiVSkV6whEwzoL3tUpUxZnucEUbQiKRCB49eoSjoyOYpol3797hzp07ODs7k2777t27yGQyjlTfrVu3AAAfP36UbjuZTGJ+fh7Pnj3DxsYGotFoIGLgqm1ns1lcXFzANE0UCgWMjY0FYpdxFryvVaIqzghXtKFDCNSXy2Vnm0ls852fn0u1fX5+jkajgb29PWdVMT4+HsgkdHZ2hkajgZcvXzqriomJCdTrdemrDFW2q9Uq6vU66vW6U/Xavc0nC8ZZ8HGmCpVxRtpwRRsyhKi0YRhIp9MAgMXFRXz+/Nk50wLaBSXFYhFbW1tXni3lcjmUSiVYltW37ZOTEzSbTWQyGSQSCadgplKpXJqEeo1tWRZKpZKrSk4x4S4vLwNonxlOT09/MRHcNLao6iwWi85355ftXmP38sd1CLFs8feIYp3O7dNetr342q848+JrXeOsH1TGmdexBV78oQtMtCGkUCjAtm2srKygVCpdKyx/E7Zto9FouCryqFarePHiBQBgc3MTm5ubqFQqru8YiknLzVmfbdsoFouIx+MolUpYX1/H27dvXRWPiOQRiURcFfT4Yfvk5ASfPn1yXdCzu7uLN2/eIJvNolQqIZVKub7L6sXXgD9x5sXXusaZeHFYX19HLBZzfO72JUVVnPXCiz90gVvHIaXXpCMukF+H2Bp0uyVWrVaxsbFx48/s7u7eODGdn5+j1Wq5PuuzbbvnXcpeTQ3Ozs7QarVcb3/2st3rexHbcwBcb3/2+j572fbqa2DwOPPqax3jrNffA6iNs16+7oVXf+gAE+0IIjrPBNltB7jc7Sforjei208kEgm8PVxnBavbFeGg6OhrxlnwcXYTKv0xLFD4XRHsdUwIGRbY63gwmGgJIYQQibAYihBCCJEIEy0hhBAiESZaQgghRCKsOlYEi6EIIcMCi6EGg4lWIRR+v4yuwu+AOjFwxlmwvh5EfF2lbQq/Dwa3jkMIBbn1EX5XKQbOOAvW1yrF1yn8rhYm2pBBQW69hN9ViYEzzoL3tUrxdQq/q4WJNmRQkFsf4XdAnRg44yxYX6sUX6fwu3p4RhtSKMitl/C7Khhnwftapfg6hd/VwBVtCKEgt17C76pgnAXva5Xi6xR+VwdXtCGDgtz6CL+rhHEWrK9Viq9T+F09XNGGDAq/6yX83g8Ufh+NOOtHfJ3C76MJE20IofC7PsLvfoiBU/h9OOLMD/F1Cr8PJ9w6DikUfr+aURN+90MMnMLvwxNnvf4mCr+PJky0I4iOYuC6CnLr6GvGGYXfhw3q0SqCvY4JIcMCex0PBhMtIYQQIhEWQxFCCCESYaIlhBBCJMJESwghhEiEiZYQQgiRCK/3KIJVx4SQYYFVx4PBRKuQRqOBUql0ZXcWcT9S/JzfXVyuo/NOHIBA72eKO4qxWAwAcHx87Lpb0DDaFvcjAQQ+iTHO9PE18Ie/3b7Yi2YWhmHANE2Jn3A04dZxCMnlcpiensb29jZM00StVsPq6qp0bVQAePLkCer1OkzTxPb2NuLxeM8uOn4gNDLL5TJM08TOzg4Mwwikb6pK2+l0GqlUCjs7OzBNE7ZtY2lpKRBBbsaZPr4WPZRv376NRqMh3R65DBNtyBAN1svlsrOyODw8RDQaxezsrFTb6XQa8Xgch4eHANqt6srlMqampqRPvqLJ+cHBAYD2G3S1WsXMzIxUu6ptLywsoFarOasa8RlkT76MM318DbRFFI6OjvDTTz9Jt0W+hIk2ZAipstPTUwDth3BpaQmxWMxVA3MvjI+Po9lsOuotuVwOc3NzrhuYe2FiYgK1Ws2Z9PP5PJLJpOtG+cNku1uqTKy2YrGY9MbsjDN9fA20e1qzBkQdPKMNKdFoFFtbW07/0JmZmcBUMe7duwfLstBqtfDq1Ss8fPgQk5OTgZzddfZzff36NR48eICxsbFA+rqqtG1ZFpLJJI6Pj1GpVKQnHAHjTB9fE3VwRRtCIpEIHj16hKOjI5imiXfv3uHOnTuBqGLcvXsXmUwGhUIB+Xwet27dAgB8/PhRuu1kMon5+Xk8e/YMGxsbiEajgYiBq7adzWZxcXEB0zRRKBQwNjYWiF3GmT6+JmrhijZkCMmzcrnsbPWIbT63klxuOT8/R6PRwN7enrOqGB8fD2QSOjs7Q6PRwMuXL51VxcTEhCfpt2GxLSTP6vW6U/XavcUoC8aZPr4m6uGKNmQIUWnDMJBOpwEAi4uL+Pz5s3OmBbQLSorFIra2tq48WxKC4pZl9W375OQEzWYTmUwGiUTCKZipVCqXJqFeY1uW5Um8HGgXbQDtM8Pp6ekvJqGbxhaVlcVi0fnu/LLda+xe/riO9+/fI5lMOn+PKNbp3D7tZduLr/2KMy++1jXO/PC11zjrh0HH9uIPXWCiDSGFQgG2bWNlZQWlUglTU1Ou9Sdt20aj0XBV5FGtVvHixQsAwObmJjY3N1GpVFzfMRSTlpuzPtu2USwWEY/HUSqVsL6+jrdv37oq4BDJIxKJuCro8cP2yckJPn365LqgZ3d3F2/evEE2m0WpVEIqlXJ9l9WLrwF/4syLr3WNMz987TXOxEvL+vo6YrGY8xn8TIpe/KEL3DoOKb0mHXGB/DrE1qDbLbFqtYqNjY0bf2Z3d/fGien8/BytVsv1WZ9t2z3vUvZqanB2doZWq+V6+7OX7V7fi9gaBOB6+7PX99nLtldfA4PHmVdf6xpng/raa5z1sgv09nUvvPpDB5hoRxDR/SXIbjvA5W4/QbeUFN1+IpFI4N12OitY3a4IB0VHXzPOgo+zm1Dpj2GBwu+KYK9jQsiwwF7Hg8FESwghhEiExVCEEEKIRJhoCSGEEIkw0RJCCCESYdWxIlgMRQgZFlgMNRhMtAoJo/A78McVhmazGeg1Agq/U/g9CHT19SC2Kfw+GNw6DiEqBblzuRzW1tbw66+/SrfVCYXfKfxO4ffRtE2YaEOHSkFuwzAwMzOD77//Hr///rtUW91Q+J3C7xR+H03bhIk2dKgU5LZtG999952SjjMUfqfwO4XfR882acMz2pCiUpBbJRR+p/A7hd9H07bOcEUbQlQKcquEwu8Ufqfw+2ja1h2uaEOGSkFulVD4ncLvFH4fPdukDVe0IUOl8Hu/jJogN4XfKfw+6sLv/dim8Ls8uKINIWI7bWVlBSsrK55ksWzbRiqVcoo8+vnd7ruNQFuY26198VB7EeReW1tDqVQC4L6Jh0gec3NznoTfB7HdLcjd73clbGSzWWSzWU93Wb34GvAnzrz4Wgi/P336FJubmwC83WUdtjjzw9cq46wXXvyhC0y0IUWF8Hs/YtzAaApyU/j9aij8fjXDJvzej20Kv8uDiXYE0VEMXFdBbh19zTij8PuwQT1aRbDXMSFkWGCv48FgoiWEEEIkwqpjQgghRCJMtIQQQohEmGgJIYQQibDqWBEshiKEDAsshhoMJlqFhFH4XaUgN/DHA12tVgO1q6sYuI5xpquvKfyuDm4dhxAdBbmB9qSfyWRQq9UCsSfQVQxcxzjT1dcUflcLE23I0FWQO51O4/bt29jY2ECr1ZJqqxsdxcB1jTMdfa3aNmGiDR26CnLv7+/j+fPnUm1ch45i4LrGmY6+pvC7enhGG1J0FeRWiY5i4LrGmY6+Vm1bZ7iiDSG6CnKrREcxcF3jTEdfq7atO1zRhgxdBblVoqMYuK5xpqOvKfyuHq5oQ4ZK4XeVgtz9QuF3Cr8PYpvC7xR+VwFXtCFElfC7SkHu7ruNAFAqlVzdr6TwO4Xfe0Hhdwq/q4CJNqSoEH4H1Aly9yPGDVD4/Soo/E7hdz9sU/hdHky0I4iOYuC6CnLr6GvGGYXfhw3q0SqCvY4JIcMCex0PBhMtIYQQIhFWHRNCCCESYaIlhBBCJMJESwghhEiEiZYQQgiRCK/3KIJVx4SQYYFVx4PBRKuQRqOBUql0ZXcWcT9S/JzfXVyuo/NOHIBA72d2d4fy0i1oGG2L+5EAAp/EVMUZ8Md33mw2A70XqquvB7EtmlkYhgHTNGV+zJGEW8chJJfLYXp6Gtvb2zBNE7VaDaurq9JFsQHgyZMnqNfrME0T29vbiMfjfXVsGhShkVkul2GaJnZ2dmAYRiB9U1XaTqfTSKVS2NnZgWmasG0bS0tLgQhyq4yzXC6HtbU1/Prrr9JtdaKrr1XaJky0oUM0WC+Xy87K4vDwENFoFLOzs1Jtp9NpxONxHB4eAmi3qiuXy5iampI++Yom5wcHBwDab9DVahUzMzNS7aq2vbCwgFqt5qwsxGeQPQGqjDPDMDAzM4Pvv/8ev//+u1Rb3ejoa9W2CRNt6BBSZaenpwDaD8LS0hJisZirBuZeGB8fR7PZdNRbcrkc5ubmnAbmMpmYmECtVnMm/Xw+j2Qy6TTKH0Xb3VJlYrUVi8WkN2ZXGWe2beO7775T0kJQR1+rtE3a8Iw2pESjUWxtbTn9Q2dmZgJ7KO7duwfLstBqtfDq1Ss8fPgQk5OTgZzddfZzff36NR48eOBKpWRYbVuWhWQyiePjY1QqFekvNgKVcaYSHX2t2rbOcEUbQiKRCB49eoSjoyOYpol3797hzp07gahi3L17F5lMxpFQu3XrFgDg48eP0m0nk0nMz8/j2bNn2NjYQDQaDUx0XqXtbDaLi4sLmKaJQqGAsbGxQOyqjDOV6Ohr1bZ1hyvakCEkz8rlsnPdR2zzuZXkcsv5+TkajQb29vac1ev4+Hggk9DZ2RkajQZevnzprComJiY8Sb8Ni20heVav152q1+5tPlmojDOV6OhrlbZJG65oQ4YQlTYMA+l0GgCwuLiIz58/O2enQLtwqVgsYmtr68qzpVwuh1KpBMuy+rZ9cnKCZrOJTCaDRCLhFMxUKpVLk1CvsS3LQqlUclXJKRL78vIygPaZ4fT09BcTwU1jJxIJbG1toVgsOt+dX7Z7jd3LH9chxLLF3yOKdTq36XvZ9uJrv+LMi6/7ZdTizA9fy4wzr2MLZMbCsMMVbQgR27YrKytYWVnxpD9p2zZSqZRT5NHP71arVbx48QJPnz7F5uYmAG93DMVD7easz7ZtFItFrK2toVQqAXDfxEMkj7m5OVcFPX7YPjk5wadPn5zCsX59JWxks1lks1lPd1m9+BrwJ868+Lr7rjYAbG5uurY/bHHmh69VxlkvvPhDF5hoQ0qv5CYukF+H2Bp0uyVWrVaxsbFx48/s7u7eODGdn5+j1Wq5Puuzbbvnnd1ezTPOzs7QarVcb3/2st3rexHbcwBcb7P3+j572fbqa2DwOPPi635iDBjNOBvU1zLjrJeve+HVHzrARDuCiG4/QXZ1Ai6vVIJuKSm6/UQikcDbw3VWsAbZ4QjQ09eMs+Dj7CZU+mNYoPC7ItjrmBAyLLDX8WAw0RJCCCESYdUxIYQQIhEmWkIIIUQiTLSEEEKIRFh1rAgWQxFChgUWQw0GE61CbhJ+B9qdVhKJRKBBTeF3vcTAVQm/6xpnFH7XE24dhxDDMFAoFPD777+j1WoFapvC7/qIgasUftcxzij8ri9MtCHkL3/5C/b29vDf//3fgdql8Ls+YuAqhd91jTMKv+sLE20Ief78uZLzDwq/6yMGrlL4Xcc4o/C73vCMlnwBhd/1EQNXKfyua5xR+F0/uKIll6Dwuz5i4CqF33WNMwq/6wlXtMSBwu/6iIGrFH7XMc4o/K43XNEOKRR+p/C7YNiE33WNMwq/6wtXtCGk824jAKysrODx48eu7r1R+J3C771QJfyua5xR+F1fmGhDSD8TDoXfr4bC7+EXfgf0jTMKv+sJE+0IoqMYuK6C3Dr6mnFG4fdhg3q0imCvY0LIsMBex4PBREsIIYRIhFXHhBBCiESYaAkhhBCJMNESQgghEmHVsSJYDEUIGRZYDDUYTLQKuUn4nYLcFH4PAh3jDPgjcVSr1UDtUvhdT7h1HEIoyE3hdwq/yyOfzyOTyaBWqwViT0Dhd31hog0ZFOSm8DtA4XeZtm/fvo2NjQ20Wi2ptrqh8Lu+MNGGDApyU/idwu/y2N/fx/Pnz6XauAoKv+sNz2hDCgW5KfweBLrGmUoo/K4fXNGGEApyU/idwu+jCYXf9YQr2pBBQW4Kv1P4ffSg8LvecEUbMvwS5KbwO4Xfb0JX4fd+ofA7hd/9hCvaEOKHIDeF3yn83gsdhd+770sDQKlUcnWPl8LvV0Ph9+thog0pgwpyU/idwu/9oJvwez8xBlD43QsUfr8eJtoRREcxcF0FuXX0NeOMwu/DBvVoFcFex4SQYYG9jgeDiZYQQgiRCKuOCSGEEIkw0RJCCCESYaIlhBBCJMJESwghhEiE13sUwapjQsiwwKrjwWCiVUij0UCpVLqyO4u4Hyl+zu8uLtfReScOQKD3M7u79njpFjSMtsX9SACBT2Kq4gz44ztvNpuB3gvV1deD2BbNLAzDgGmaMj/mSMKt4xCSy+UwPT2N7e1tmKaJWq2G1dVV6bqsAPDkyRPU63WYpont7W3E4/G+OukMitDILJfLME0TOzs7MAwjkL6pKm2n02mkUins7OzANE3Yto2lpaVABLlVxlkul8Pa2hp+/fVX6bY60dXXKm0TJtrQIRqsl8tlZ2VxeHiIaDSK2dlZqbbT6TTi8TgODw8BtNvVlctlTE1NSZ98RZPzg4MDAO036Gq1ipmZGal2VdteWFhArVZzVhbiM8ieAFXGmWEYmJmZwffff4/ff/9dqq1udPS1atuEiTZ0CKmy09NTAO0HYWlpCbFYzFUDcy+Mj4+j2Ww66i25XA5zc3NOA3OZTExMoFarOZN+Pp9HMpl0GuWPou1uqTKx2orFYtIbs6uMM9u28d133ylpIaijr1XaJm14RhtSotEotra2nP6hMzMzgT0U9+7dg2VZaLVaePXqFR4+fIjJyclAzu46+7m+fv0aDx48cKVSMqy2LctCMpnE8fExKpWK9Bcbgco4U4mOvlZtW2e4og0hkUgEjx49wtHREUzTxLt373Dnzp1AVDHu3r2LTCbjSKjdunULAPDx40fptpPJJObn5/Hs2TNsbGwgGo0GJgau0nY2m8XFxQVM00ShUMDY2FggdlXGmUp09LVq27rDFW3IEJJn5XLZue4jtvncSnK55fz8HI1GA3t7e87qdXx8PJBJ6OzsDI1GAy9fvnRWFRMTE56k34bFtpA8q9frTtVr9zafLFTGmUp09LVK26QNV7QhQ4hKG4aBdDoNAFhcXMTnz5+ds1OgXbhULBaxtbV15dlSLpdDqVSCZVl92z45OUGz2UQmk0EikXAKZiqVyqVJqNfYlmWhVCq5quQUiX15eRlA+8xwenr6i4ngprETiQS2trZQLBad784v273G7uWP6xBi2eLvEcU6ndv0vWx78bVfcebF1/0yanHmh69lxpnXsQUyY2HY4Yo2hIht25WVFaysrHjSn7RtG6lUyiny6Od3q9UqXrx4gadPn2JzcxOAtzuG4qF2c9Zn2zaKxSLW1tZQKpUAuG/iIZLH3Nycq4IeP2yfnJzg06dPTuFYv74SNrLZLLLZrKe7rF58DfgTZ1583X1XGwA2Nzdd2x+2OPPD1yrjrBde/KELTLQhpVdyExfIr0NsDbrdEqtWq9jY2LjxZ3Z3d2+cmM7Pz9FqtVyf9dm23fPObq/mGWdnZ2i1Wq63P3vZ7vW9iO05AK632Xt9n71se/U1MHicefF1PzEGjGacDeprmXHWy9e98OoPHWCiHUFEt58guzoBl1cqQbeUFN1+IpFI4O3hOitYg+xwBOjpa8ZZ8HF2Eyr9MSxQ+F0R7HVMCBkW2Ot4MJhoCSGEEImw6pgQQgiRCBMtIYQQIhEmWkIIIUQirDpWBIuhCCHDAouhBn2vqNwAABf7SURBVIOJViFhFH4H9BTk1lUMXFWcdTetCPJ6kq6+pvC7Orh1HEIoyE3h91EXfn/y5Anq9TpM08T29jbi8XjPJhJ+oKuvKfyuFibakEFBbgq/A6Mt/J5OpxGPx3F4eAig3ampXC5jampKepLX0deqbRMm2tBBQW4Kv4+68Pv4+DiazaYjXpDL5TA3N+f075WJjr6m8Lt6eEYbUijITeH3IFAZZ/fu3YNlWWi1Wnj16hUePnyIycnJQM6IdfS1ats6wxVtCKEgN4XfR134/e7du8hkMo6C0K1btwAAHz9+lG5bR1+rtq07XNGGDApyU/h91IXfz8/P0Wg0sLe356xex8fHA0l2Ovqawu/q4Yo2ZKgUfu+XURPkpvB7sMLvJycnaDabyGQySCQSTmFWpVK5lOxGLc4o/K4vXNGGEFXC77oKclP4PVjh92q1ihcvXuDp06fY3NwE4O0u67DFGYXf9YWJNqSoEH7XWZCbwu9XI0P4Hegv1kYxzij8ridMtCOIjmLgugpy6+hrxhmF34cN6tEqgr2OCSHDAnsdDwYTLSGEECIRVh0TQgghEmGiJYQQQiTCREsIIYRIhFXHimAxFCFkWGAx1GAw0SokjMLvKgW5gT8e6Gq1GqhdXcXAdYwzXX1N4Xd1cOs4hOgoyA20J/1MJoNarRaIPYGuYuA6xpmuvqbwu1qYaEOGroLc6XQat2/fxsbGBlqtllRb3egoBq5rnOnoa9W2CRNt6NBVkHt/fx/Pnz+XauM6dBQD1zXOdPQ1hd/VwzPakKKrILdKdBQD1zXOdPS1ats6wxVtCNFVkFslOoqB6xpnOvpatW3d4Yo2ZOgqyK0SHcXAdY0zHX1N4Xf1cEUbMlQKv6sU5O4XCr9T+H0Q2xR+p/C7CriiDSGqhN9VCnJ3320EgFKp5Op+JYXfKfzeCwq/U/hdBUy0IUWF8DugTpC7HzFugMLvV0Hhdwq/+2Gbwu/yYKIdQXQUA9dVkFtHXzPOKPw+bFCPVhHsdUwIGRbY63gwmGgJIYQQibDqmBBCCJEIEy0hhBAiESZaQgghRCJMtIQQQohEeL1HEaw6JoQMC6w6HgwmWoU0Gg2USqUru7OI+5Hi5/zu4nIdnXfiAAR6P7O7O5SXbkHDaFvcjwQQ+CSmY5wBfySOarUaqF2Vvh7EtmhmYRgGTNOU+TFHEm4dh5BcLofp6Wlsb2/DNE3UajWsrq5KF8UGgCdPnqBer8M0TWxvbyMej/fVsWlQhEZmuVyGaZrY2dmBYRiB9E1VaTudTiOVSmFnZwemacK2bSwtLQUiyK1jnAHtl4tMJoNarRaIPYFKX6u0TZhoQ4dosF4ul52VxeHhIaLRKGZnZ6XaTqfTiMfjODw8BNBuVVculzE1NSV98hVNzg8ODgC036Cr1SpmZmak2lVte2FhAbVazVlZiM8gewLUNc7S6TRu376NjY0NtFotqba6UeVr1bYJE23oEFJlp6enANoPwtLSEmKxmKsG5l4YHx9Hs9l01FtyuRzm5uacBuYymZiYQK1Wcyb9fD6PZDLpNMofRdvdUmViZR2LxaQ3Ztc1zvb39/H8+XOpNq5Cpa9V2iZteEYbUqLRKLa2tpz+oTMzM4E9FPfu3YNlWWi1Wnj16hUePnyIycnJQM7uOvu5vn79Gg8ePHClUjKsti3LQjKZxPHxMSqVivSEI9A1zlSiyteqbesMV7QhJBKJ4NGjRzg6OoJpmnj37h3u3LkTiCrG3bt3kclkHAm1W7duAQA+fvwo3XYymcT8/DyePXuGjY0NRKPRwETnVdrOZrO4uLiAaZooFAoYGxsLxK6ucaYSVb5WbVt3uKINGULyrFwuO9d9xDafW0kut5yfn6PRaGBvb89ZVYyPjweScM7OztBoNPDy5UtnBTkxMeFJ+m1YbAvJs3q97lQ4d2/zyULXOFOFSl+rtE3acEUbMoSotGEYSKfTAIDFxUV8/vzZOdMC2kUdxWIRW1tbV54j5nI5lEolWJbVt+2TkxM0m01kMhkkEgmnYKZSqVxKOL3GtiwLpVLJVdWumHCXl5cBtM8Mp6env5gIbho7kUhga2sLxWLR+e78st1r7F7+uA4hli3+HlGY1bl92su2F1/7FWdefK0yzvpFRpz54WuZceZ1bIFMfww7XNGGELGdtrKygpWVFU/6k7ZtI5VKOQU9/fxutVrFixcv8PTpU2xubgLwdp9UPNRuzvps20axWMTa2hpKpRIA9008RPKYm5tzVdDjh+2TkxN8+vTJKejp11fCRjabRTab9XSX1YuvAX/izIuvVcZZ931pACiVSq7u8XqNMz98rTLOeuHFH7rARBtSek064gL5dYitQbfbn9VqFRsbGzf+zO7u7o1J6Pz8HK1Wy/VZn23bPe9S9poMz87O0Gq1XG9/9rLd63sR23MAXG9/9vo+e9n26mtg8Djz6mtVcdZPjAHy4mxQX8uMs16+7oXXWNABJtoRRHT7CbrbTme3n6BbSoqVSiQSCbw9XGe1stsV4aDo6GvGWfBxdhMq/TEsUPhdEex1TAgZFtjreDCYaAkhhBCJsOqYEEIIkQgTLSGEECIRJlpCCCFEIqw6VgSLoQghwwKLoQaDiVYhFH6/DIXfKfweFBR+p/B7kHDrOIToKMhN4XcKv1P4fTRtEyba0KGrIDeF3yn8TuH30bRNmGhDh66C3BR+p/A7hd9HzzZpwzPakKKrIDeF3yn8TuH30bStM1zRhhBdBbkp/E7hdwq/j6Zt3eGKNmToKshN4XcKv1P4ffRskzZc0YYMCr9T+J3C7/39XRR+p/D7sMAVbQih8DuF3yn8Lsc2hd8p/K4CJtqQQuH3q6Hw+5dQ+J3C737YpvC7PJhoRxAdxcB1FeTW0deMMwq/DxvUo1UEex0TQoYF9joeDCZaQgghRCKsOiaEEEIkwkRLCCGESISJlhBCCJEIEy0hhBAiEV7vUQSrjgkhwwKrjgeDiVYhjUYDpVLpyu4s4n6k+Dm/u7hcR+edOACB388UD3S1Wg3UbnfHIC+dirwi7kcCCHwS0zHOdPX1ILZFMwvDMGCapsyPOZJw6ziE5HI5TE9PY3t7G6ZpolarYXV1VbouKwA8efIE9Xodpmlie3sb8Xi8r046fpDP55HJZFCr1QKxJxD6nOVyGaZpYmdnB4ZhBNKzNZ1OI5VKYWdnB6ZpwrZtLC0tBSLIrWOc6eprlbYJE23oEA3Wy+Wys7I4PDxENBrF7OysVNvpdBrxeByHh4cA2u3qyuUypqampE++6XQat2/fxsbGBlqtllRb3YgG6wcHBwDab+/VahUzMzPSbS8sLKBWqzkrC/EZZE+AusaZjr5WbZsw0YYOIVV2enoKoP0gLC0tIRaLuWpg7oXx8XE0m01HvSWXy2Fubs5pYC6T/f19PH/+XKqN65iYmECtVnMSTj6fRzKZdJr0y6JbqkystmKxmPTG7LrGmY6+VmmbtOEZbUiJRqPY2tpy+ofOzMwE9lDcu3cPlmWh1Wrh1atXePjwISYnJwM5u1NJZy/Z169f48GDB64UUgbBsiwkk0kcHx+jUqlITzgCXeNMR1+rtq0zXNGGkEgkgkePHuHo6AimaeLdu3e4c+dOIKoYd+/eRSaTcSTUbt26BQD4+PGjdNsqSSaTmJ+fx7Nnz7CxsYFoNBqYEHk2m8XFxQVM00ShUMDY2FggdnWNMx19rdq27nBFGzKE5Fm5XHau+4htPreSXG45Pz9Ho9HA3t6es6oYHx8PbBJSxdnZGRqNBl6+fOmsaCYmJjzJzrlBSJ7V63Wn6rV7m08WusaZjr5WaZu04Yo2ZAhRacMwkE6nAQCLi4v4/Pmzc6YFtAtKisUitra2rjxbyuVyKJVKsCyrb9snJydoNpvIZDJIJBJOwUylUrk0CfUa27IslEolKZWcN42dSCSwtbWFYrHofHf9ICb75eVlAO3zyunp6UuTUK+xe/njOoRYtvh7RLFO5/ZpL9tefO1XnHnxtco468fXvcb2Gmd++FpmnHkdWyDzuR92uKINIWI7bWVlBSsrK570J23bRiqVcoo8+vndarWKFy9e4OnTp9jc3ATg7Y6heKjdnPV1320EgFKp5Op+pUgec3Nzrgp6bNtGsVjE2toaSqUSAPcNRE5OTvDp0yenoKdfXwkb2WwW2WzW011WL74G/IkzL75WGWd++NprnPnha5Vx1gsv/tAFJtqQ0mvSERfIr0NsDbrdEqtWq9jY2LjxZ3Z3d2+cmM7Pz9FqtVyd9dm23dc9yl5J9+zsDK1Wy/X2Zy/7vb4XsT0HwPX2Z6/vs5dtr74GBo8zL74G1MUZ0F+syYqzQX0tM856+boXXv2hA0y0I4jo9hN0V6fObj9Bt5QUK+JIJBJ4e7jOCla3K8JB0dHXjLPg4+wmVPpjWKDwuyLY65gQMiyw1/FgMNESQgghEmHVMSGEECIRJlpCCCFEIky0hBBCiERYdawIFkMRQoaFXsVQnbrGV1VFW5aF9+/fazvHMdEqhMLvl1EpyK2rGDjjTB9fA3/42+2LfS/hd/H95XI5zM/Pf/Hvh4eHWFpawvn5uZbVytw6DiEU5A5WkFtXMXDGmT6+Fq0db9++jUajId1eN/v7+3j79q3TdlM3mGhDBgW5gxfk1lEMnHGmj6+Bdm/no6Mj/PTTT9JtXce7d+8AtH2gG0y0IYOC3MEKcqu0TeF3feJMtfh6oVBQfj4qekQH8VITNphoQ4oQ5F5fX8fbt2/x4cOHQAW5i8UiUqkUXr16hVarhcnJyUBsC8WWqakpvH79Gl999VVg4tQqbVuWhc3NTVQqFRwfHwcu/M44G31fh4Gzs7NAXp7DBhNtCKEgd/CC3DqKgTPO9PF1WDg/Pw/0pSYssOo4ZFCQO1hBbpW2KfyuT5xRfL1NUH4OG1zRhgxdhd9VCnJT+J3C76Mu/N4PMscWBPXyHDaYaENIoVCAbdtYWVlxzpG8CL83Gg1X5yFCkBsANjc3nXMkL4LcADwJcsfjcZRKJefM0IsgdyQS8ST8PojtbkHuftnd3cWbN2+QzWZRKpWQSqU8Cb+79TXgT5x58bWuceaHr73GmXhpWV9fRywWcz5DENeaBIlEAlNTU1qt4AXcOg4pugm/A2oFuSn8fjUUfr+aYRN+72UXGFz4vRfiWo+45qMTTLQjiI5i4LoKcuvoa8ZZuITf+0E069jb2xuqz+0X1KNVBHsdE0KGBfY6HgwmWkIIIUQiLIYihBBCJMJESwghhEiEiZYQQgiRCKuOfUBoNP7888+XCgQsy0IymQRwdYEAIYQQdfQq8vKriCsUidayLFxcXAQmvuwnQoXjl19+ubLU/ypR6W7hacDfRNxd0SwjyYurBn5eK5FdiS2+92az6ev3EUQFeedLm5/fuQzh925Rd4HfQue9Kl39GNtvX8p6+e4UlO/Ej1iROXb3+H7HSPdc2z0f9xK090uwPhSJdpgRrdx+/PFHV7/XbDZ9mdS6MQwD3377rROsYtJbXl727UXGMAx88803viZuIdN2cHCA3d1dpNNpXwJckMvlkEql8Ouvv/oqA5dIJPCf//mfzvedy+WwuLjo2+cW/hMi6X7SKfxu2zYsy8Lq6urAk/9VTRfE9++XaIBlWbhz5w6ePXvmaxyK71v0Y/YT0YXJNE3HzpMnT3xJVt0NKcT4fvQUljm2YRiYn593YjCfz2NpaQkfP3705YVvdXUV5XIZhULBSbq5XK7vl6f9/X2Mj48jk8ng5OTEc6wpTbSdb6TJZBKlUgnA5Telm95IcrkcZmZmcHFx4YzT+e/db9bdb+zdK5FOu+l0Gt9++y3+/ve/49GjR4jFYl+8gRqGgT//+c/4+eefQ7MlLGTGxITW2UnGL5aXl/GPf/wDFxcXvqlwLC4uotlsOl1j9vf3sbCwgK+//nrghGUYBmZmZvD9999jeXnZ10RbrVbx7Nkz5//bto1UKuWbjfv376Ner/vejOI64felpSXMzs76Hs8zMzOXbA1COp1GJBKRchQjBNJt28ba2pqvY3dO7qKNoxC79/vvmJ2dxVdffeWIy4d1bNu2L72UnZ6eYnp6GpOTkwPHiuglLT6nbdsol8uu9XDfvXuH+fl53L9/3/PuhtJEKxLidVvH/byRiG0Y0zSdt2bDMGDbNpaXl1Gv169sada9ghJj5/N553PEYjH89a9/xQ8//ICPHz9ibW3t0pdtGMYXTdhVc3Jygkwm46xM7t+/j0QigcPDQ1/Gz+VyiMfjKBaLWFxc9GVMQXcLQb8SuW3bvu8cBMXMzAz+9a9/oVAoOC+bfmxnBin8nk6n8W//9m+ud32u4+uvvwaASy/RVx3ReEGMYRjGwGOpZGFhAb/88ouUuJc5tt80m81LK++zszPXLzd+CNaHuup4dnYW//znP50H9Ko3kt9++w1/+9vfnH/vFo+Ox+NXPjTdKyjbtvH27VvHCYKDgwPs7+/Dtm3UarVLDcwHUaKIRqNYX19HqVRyrQJyE2LbrlKpYHNzE6lUCoVCwbdtzPn5ebx9+9b3h+z09BTxeNz5HtLp9FBOdsvLy5fiahCEjNq///u/o1gswjRNvHnzBouLi77FSxDC735PzGNjY4jH4/iv//ovmKaJnZ0dGIYRaIP8QRHxfXR05PtqVrzYyFjNyhw7kUggk8mgVqv5Ml/Zto1oNOr0WDYMA6lUytNYgwrWh/qMdnx8HIlEApubm5f++4cPH/r6/UKhAMuysL6+DuDLt95eSbLRaFyaHLq377yutrqbmudyOTx+/BgABg6w7jO9fD6P9fV1X1ZBYodARhu1/f19fP3111hZWcHKygp+++03/O///i/+9a9/+W5LFvl83lnt+zl5dr7YiG0sP1adQvhdxIZ4kfJTXSWdTiMej/u2oyKwbdt5VsQxg98vCLIQuwe2bUt5lhYWFvCPf/xD2mpW1thPnjwBAGfhNChi8ZTNZpHNZtFoNPA///M/mJycdP18dgrWe3m2Q51ogcEr87rPeju3hsUbSqcAtBv83Nr85ptvBh4H+ONc4uXLlwDaLxv5fB7z8/N49+6d5+9RSFzdvXvXOUsXFItFXyoFu7f+LMtCpVIZaMygyOfzMAwDP/zwg2+TkDhfl5FAghJ+X1hY8G2FIvCzNiBoxDxUq9Wk3LIQLzZ7e3tDNbZlWVJeUrsLufL5vKcirkEF60OxdXxxcfHFli3wx9JfVPYOaqPZbDr///T0FH/6058ubStMT0+72soZdDtBsLy8/MVZr1dxaaC9UhHb5yJBdq7evYwttqRN03T+d3x8jA8fPmBtbe2Lu2eDal0Kse/uN34/xr4OLwLqwOUke11C8Tr2+/fvMT097WyjXyUWrlL4/SZ6rWa9jn3VMUM8HnfOmwf93L3w+mx2JtnritsGee6B3i82gzw/ssbuTLLXvaT68dzn83lMTU15qhUYVLA+FCvaH3/8EU+fPnW2iEX1rxBpXltbu7SK6mcb9Kq7fB8+fHDeIkWwPH782LnDdXx87GorR1SYuq1G676X9uHDhy8KtsREODc351pcemJiwtmCFeN3Pthex+6X9+/fI5lMulqJ9brvNsjYV8XC5ubmF7slwp/dOx29Pvf09DQikcil79yPsYE//CmOP6666+p1bLHb0bld37171C003u/Y/Zy3eR1bXLkQn/uqu5dex+5+NsW2Y+ec4/X5WVxcRCwWu3TDAoAvY4vPnkgk8MMPP1z7M16eH5ljp9NpJBIJRCIRJ8aBL+csP577q+bZfseZmprC0dGR698VhCLR3iR2fJNIc/e2gG3bl5zV60u9Sei4HxFkUZzldlu2HxFmwLu4dD9bUl7H7seOF0HufsS4vY7dj8g44E1Avd/PLVOcXebYXoXG+/nOvY4N9CegLksgHfD2/PS7VSxLVB7w9vzIHLtfsXmZz30v/BCsD0WiHWbEatzvhhCyxKVlji1TkFu22LdMAfVhHVum0Piwjs1nc3TG7ge/BOupR+sD7HVMCCHDR1C9jploCSGEEImEouqYEEIIGVWYaAkhhBCJMNESQgghEmGiJYQQQiTCROsDhmFge3vbt0bvQLvabZiapBNCCLmaUNyjvU4mbxgQUn6//PLLF/fexL24ZrP5hY5tZxck4MvrP0Ib1C8BcUIIIWoIRaIdZkQf5u7+mUIb99dff72ylVqz2byxt6doM5fJZHBycsL7t4QQMqT8f1kQhqfQlAA6AAAAAElFTkSuQmCC)"
      ],
      "metadata": {
        "id": "VFQWpltiIx9F"
      }
    },
    {
      "cell_type": "code",
      "source": [
        "accuracy_winfo(pred , label)"
      ],
      "metadata": {
        "colab": {
          "base_uri": "https://localhost:8080/"
        },
        "id": "wWHg7J04GdbX",
        "outputId": "21688f31-46e3-4851-934a-07e8441c96a1"
      },
      "execution_count": 76,
      "outputs": [
        {
          "output_type": "stream",
          "name": "stdout",
          "text": [
            "tensor([[  1.7303,  -0.8463,   1.5196,  -0.1102,  -4.0838,   6.4148,   0.0319,\n",
            "          -2.1025,   2.8522,  -2.0271],\n",
            "        [  2.9952,  -2.6888,   0.9804,   0.6225,  -1.4303,  -1.0281,  -0.2374,\n",
            "          -4.3710,   7.5960,  -0.3884],\n",
            "        [  2.0542, -12.2870,  -3.4906,  -8.3447,  12.1696,  -1.0493,   3.7555,\n",
            "           2.8799,  -1.3387,   6.0152],\n",
            "        [  0.3813,  -6.7387,  -3.3074,   0.6251,   4.2898,  -1.4121,  -9.8925,\n",
            "           7.2414,   0.9062,  11.3215],\n",
            "        [ -0.0574,   8.8402,   0.3458,  -2.3873,  -2.7128,  -0.0928,   0.7912,\n",
            "           0.8383,   2.5349,  -3.1822],\n",
            "        [ -0.7725,  -0.0462,  14.8153,   3.6123,  -5.0389,  -0.1032,  -6.3916,\n",
            "           3.4223,   1.5333,  -7.0453],\n",
            "        [ -2.8330,  -1.2340,   0.4791,  -1.6846,   0.4104,   0.4857,  10.1592,\n",
            "          -2.5872,   3.3716,  -6.5307],\n",
            "        [ 10.4648,  -4.5140,   0.0227,  -5.0681,  -2.4346,   1.8060,   1.1804,\n",
            "           0.3683,  -2.7857,   1.5972],\n",
            "        [ -1.6718,   3.5787,   3.5531,   1.2932,  -0.4111,  -3.6616,  -3.1211,\n",
            "           2.8898,   3.4652,  -1.4704],\n",
            "        [  1.7293,  -3.1544,   1.1385,  -4.9086,   0.7889,   1.0195,  16.7255,\n",
            "          -8.0281,   1.6265,  -7.3306],\n",
            "        [ -2.1074,   8.4556,   1.8285,  -1.3354,   1.4967,  -2.4343,  -1.8287,\n",
            "           3.3787,   0.8983,  -3.5467],\n",
            "        [  3.7176,  -6.8263,   8.0681,   0.7018,  -0.1476,  -0.8630,   0.5490,\n",
            "          -2.5844,   2.7000,  -1.1101],\n",
            "        [ -1.6998,  -2.8811,   3.9621,   3.3532,  -3.4313,  -2.0596, -12.1062,\n",
            "          14.4015,   0.3901,   3.6705],\n",
            "        [ -0.5737,  -6.4783,  -0.0250,  -0.8829,  -0.9289,   1.7357,  -6.2141,\n",
            "          13.7051,  -1.0793,   3.1570],\n",
            "        [ -0.1460,  -5.1814,  14.8301,   5.6338,  -9.5477,  -2.2638,  -7.3814,\n",
            "           4.8329,   2.8817,  -0.5839],\n",
            "        [ -3.9570,   1.6905,  -4.8786,  -0.1985,   5.8510,   1.3682,  -6.9191,\n",
            "           4.8190,  -1.6121,   6.6333]], grad_fn=<AddmmBackward0>)\n",
            "torch.Size([16, 10])\n",
            "tensor([[8.8024e-03, 6.6925e-04, 7.1303e-03, 1.3973e-03, 2.6277e-05, 9.5294e-01,\n",
            "         1.6106e-03, 1.9056e-04, 2.7028e-02, 2.0549e-04],\n",
            "        [9.9102e-03, 3.3694e-05, 1.3216e-03, 9.2391e-04, 1.1861e-04, 1.7734e-04,\n",
            "         3.9102e-04, 6.2662e-06, 9.8678e-01, 3.3621e-04],\n",
            "        [4.0351e-05, 2.3855e-11, 1.5768e-07, 1.2294e-09, 9.9752e-01, 1.8116e-06,\n",
            "         2.2118e-04, 9.2140e-05, 1.3563e-06, 2.1188e-03],\n",
            "        [1.7420e-05, 1.4089e-08, 4.3556e-07, 2.2229e-05, 8.6792e-04, 2.8987e-06,\n",
            "         6.0145e-10, 1.6609e-02, 2.9444e-05, 9.8245e-01],\n",
            "        [1.3631e-04, 9.9703e-01, 2.0401e-04, 1.3264e-05, 9.5791e-06, 1.3158e-04,\n",
            "         3.1848e-04, 3.3383e-04, 1.8213e-03, 5.9903e-06],\n",
            "        [1.6995e-07, 3.5135e-07, 9.9997e-01, 1.3634e-05, 2.3848e-09, 3.3188e-07,\n",
            "         6.1651e-10, 1.1275e-05, 1.7050e-06, 3.2068e-10],\n",
            "        [2.2750e-06, 1.1256e-05, 6.2433e-05, 7.1733e-06, 5.8287e-05, 6.2847e-05,\n",
            "         9.9867e-01, 2.9090e-06, 1.1262e-03, 5.6374e-08],\n",
            "        [9.9952e-01, 3.1231e-07, 2.9165e-05, 1.7945e-07, 2.4985e-06, 1.7352e-04,\n",
            "         9.2824e-05, 4.1203e-05, 1.7588e-06, 1.4082e-04],\n",
            "        [1.4972e-03, 2.8543e-01, 2.7823e-01, 2.9036e-02, 5.2815e-03, 2.0468e-04,\n",
            "         3.5142e-04, 1.4333e-01, 2.5481e-01, 1.8311e-03],\n",
            "        [3.0706e-07, 2.3241e-09, 1.7008e-07, 4.0219e-10, 1.1990e-07, 1.5100e-07,\n",
            "         1.0000e+00, 1.7768e-11, 2.7706e-07, 3.5691e-11],\n",
            "        [2.5621e-05, 9.9091e-01, 1.3120e-03, 5.5444e-05, 9.4155e-04, 1.8476e-05,\n",
            "         3.3857e-05, 6.1827e-03, 5.1756e-04, 6.0746e-06],\n",
            "        [1.2657e-02, 3.3356e-07, 9.8110e-01, 6.2027e-04, 2.6527e-04, 1.2971e-04,\n",
            "         5.3236e-04, 2.3194e-05, 4.5750e-03, 1.0131e-04],\n",
            "        [1.0168e-07, 3.1207e-08, 2.9255e-05, 1.5913e-05, 1.8001e-08, 7.0958e-08,\n",
            "         3.0749e-12, 9.9993e-01, 8.2207e-07, 2.1855e-05],\n",
            "        [6.2920e-07, 1.7157e-09, 1.0891e-06, 4.6185e-07, 4.4106e-07, 6.3348e-06,\n",
            "         2.2344e-09, 9.9996e-01, 3.7950e-07, 2.6241e-05],\n",
            "        [3.1327e-07, 2.0374e-09, 9.9985e-01, 1.0140e-04, 2.5871e-11, 3.7683e-08,\n",
            "         2.2575e-10, 4.5523e-05, 6.4687e-06, 2.0218e-07],\n",
            "        [1.5397e-05, 4.3663e-03, 6.1264e-06, 6.6026e-04, 2.7990e-01, 3.1634e-03,\n",
            "         7.9623e-07, 9.9728e-02, 1.6062e-04, 6.1200e-01]])\n",
            "tensor([5, 8, 4, 9, 1, 2, 6, 0, 1, 6, 1, 2, 7, 7, 2, 9])\n",
            "tensor([[0., 0., 0., 0., 0., 1., 0., 0., 0., 0.],\n",
            "        [0., 0., 0., 0., 0., 0., 0., 0., 1., 0.],\n",
            "        [0., 0., 0., 0., 1., 0., 0., 0., 0., 0.],\n",
            "        [0., 0., 0., 0., 0., 0., 0., 0., 0., 1.],\n",
            "        [0., 1., 0., 0., 0., 0., 0., 0., 0., 0.],\n",
            "        [0., 0., 1., 0., 0., 0., 0., 0., 0., 0.],\n",
            "        [0., 0., 0., 0., 0., 0., 1., 0., 0., 0.],\n",
            "        [1., 0., 0., 0., 0., 0., 0., 0., 0., 0.],\n",
            "        [0., 0., 0., 0., 0., 0., 0., 1., 0., 0.],\n",
            "        [0., 0., 0., 0., 0., 0., 1., 0., 0., 0.],\n",
            "        [0., 1., 0., 0., 0., 0., 0., 0., 0., 0.],\n",
            "        [0., 0., 1., 0., 0., 0., 0., 0., 0., 0.],\n",
            "        [0., 0., 0., 0., 0., 0., 0., 1., 0., 0.],\n",
            "        [0., 0., 0., 0., 0., 0., 0., 1., 0., 0.],\n",
            "        [0., 0., 1., 0., 0., 0., 0., 0., 0., 0.],\n",
            "        [0., 0., 0., 0., 0., 0., 0., 0., 0., 1.]])\n",
            "tensor([5, 8, 4, 9, 1, 2, 6, 0, 7, 6, 1, 2, 7, 7, 2, 9])\n",
            "tensor(15)\n"
          ]
        },
        {
          "output_type": "stream",
          "name": "stderr",
          "text": [
            "<ipython-input-75-3341f8423127>:6: UserWarning: Implicit dimension choice for softmax has been deprecated. Change the call to include dim=X as an argument.\n",
            "  print(F.softmax(pred.detach())) # act func\n",
            "<ipython-input-75-3341f8423127>:7: UserWarning: Implicit dimension choice for softmax has been deprecated. Change the call to include dim=X as an argument.\n",
            "  print(F.softmax(pred.detach()).argmax(1) ) # в каждой из 16 выбирается наибольшее [5, 8, 4, 9, 1, 2, 6, 0, 1, 6, 1, 2, 7, 7, 2, 9]\n",
            "<ipython-input-75-3341f8423127>:10: UserWarning: Implicit dimension choice for softmax has been deprecated. Change the call to include dim=X as an argument.\n",
            "  answer = F.softmax(pred.detach()).argmax(1)  == label.argmax(1)\n"
          ]
        },
        {
          "output_type": "execute_result",
          "data": {
            "text/plain": [
              "tensor(15)"
            ]
          },
          "metadata": {},
          "execution_count": 76
        }
      ]
    },
    {
      "cell_type": "code",
      "source": [],
      "metadata": {
        "id": "L61nU_NaJBZv"
      },
      "execution_count": 87,
      "outputs": []
    },
    {
      "cell_type": "code",
      "source": [
        "accuracy(pred , label) # 15 out of 16"
      ],
      "metadata": {
        "colab": {
          "base_uri": "https://localhost:8080/"
        },
        "id": "XANwCmPpJDBL",
        "outputId": "5dda98f1-677b-42ac-eab6-1d997d57f58f"
      },
      "execution_count": 88,
      "outputs": [
        {
          "output_type": "stream",
          "name": "stderr",
          "text": [
            "<ipython-input-87-758b855bc9b3>:3: UserWarning: Implicit dimension choice for softmax has been deprecated. Change the call to include dim=X as an argument.\n",
            "  answer = F.softmax(pred.detach()).numpy().argmax(1)  == label.numpy().argmax(1)\n"
          ]
        },
        {
          "output_type": "execute_result",
          "data": {
            "text/plain": [
              "0.9375"
            ]
          },
          "metadata": {},
          "execution_count": 88
        }
      ]
    },
    {
      "cell_type": "code",
      "source": [
        "img = cv2.imread('jannapicture.png' , cv2.IMREAD_GRAYSCALE )\n",
        "img = np.expand_dims( img, axis = 0 )\n",
        "img = np.expand_dims( img, axis = 0 )\n",
        "img = img.astype(np.float32) / 255.0"
      ],
      "metadata": {
        "id": "hhRWl5SsJF8-"
      },
      "execution_count": 102,
      "outputs": []
    },
    {
      "cell_type": "code",
      "source": [
        "img.shape"
      ],
      "metadata": {
        "colab": {
          "base_uri": "https://localhost:8080/"
        },
        "id": "P0AfE-KVOble",
        "outputId": "f36c0fd3-ef36-443e-e45e-be4327a12f69"
      },
      "execution_count": 103,
      "outputs": [
        {
          "output_type": "execute_result",
          "data": {
            "text/plain": [
              "(1, 1, 28, 28)"
            ]
          },
          "metadata": {},
          "execution_count": 103
        }
      ]
    },
    {
      "cell_type": "code",
      "source": [
        "t_img = torch.from_numpy(img)\n",
        "\n",
        "nash_pred = model(t_img)"
      ],
      "metadata": {
        "id": "Et1IWcziOcLP"
      },
      "execution_count": 104,
      "outputs": []
    },
    {
      "cell_type": "code",
      "source": [
        "nash_pred"
      ],
      "metadata": {
        "colab": {
          "base_uri": "https://localhost:8080/"
        },
        "id": "tDoCCVvBSPa6",
        "outputId": "65fecda2-f2fa-4a26-e0e6-ccfee2afc340"
      },
      "execution_count": 105,
      "outputs": [
        {
          "output_type": "execute_result",
          "data": {
            "text/plain": [
              "tensor([[ -2.3091, -14.5147,   1.0089,   6.5867,  -1.4685,  11.6470,   2.9361,\n",
              "         -15.1854,  17.0669,  -2.4273]], grad_fn=<AddmmBackward0>)"
            ]
          },
          "metadata": {},
          "execution_count": 105
        }
      ]
    },
    {
      "cell_type": "code",
      "source": [
        "F.softmax(nash_pred).detach().numpy()"
      ],
      "metadata": {
        "colab": {
          "base_uri": "https://localhost:8080/"
        },
        "id": "F04dGWnwSRHK",
        "outputId": "31d134bc-8f2a-4430-c169-09bba3191458"
      },
      "execution_count": 106,
      "outputs": [
        {
          "output_type": "stream",
          "name": "stderr",
          "text": [
            "<ipython-input-106-37a0ce516137>:1: UserWarning: Implicit dimension choice for softmax has been deprecated. Change the call to include dim=X as an argument.\n",
            "  F.softmax(nash_pred).detach().numpy()\n"
          ]
        },
        {
          "output_type": "execute_result",
          "data": {
            "text/plain": [
              "array([[3.8300616e-09, 1.9159164e-14, 1.0572623e-07, 2.7963883e-05,\n",
              "        8.8767544e-09, 4.4079917e-03, 7.2636340e-07, 9.7968042e-15,\n",
              "        9.9556327e-01, 3.4027867e-09]], dtype=float32)"
            ]
          },
          "metadata": {},
          "execution_count": 106
        }
      ]
    },
    {
      "cell_type": "code",
      "source": [
        "F.softmax(nash_pred.detach()).numpy().argmax(1)"
      ],
      "metadata": {
        "colab": {
          "base_uri": "https://localhost:8080/"
        },
        "id": "PgHFXhy5SZVl",
        "outputId": "46ceeb1f-7840-4912-978d-71d097dba52b"
      },
      "execution_count": 107,
      "outputs": [
        {
          "output_type": "stream",
          "name": "stderr",
          "text": [
            "<ipython-input-107-d39544e4ce3b>:1: UserWarning: Implicit dimension choice for softmax has been deprecated. Change the call to include dim=X as an argument.\n",
            "  F.softmax(nash_pred.detach()).numpy().argmax(1)\n"
          ]
        },
        {
          "output_type": "execute_result",
          "data": {
            "text/plain": [
              "array([8])"
            ]
          },
          "metadata": {},
          "execution_count": 107
        }
      ]
    },
    {
      "cell_type": "code",
      "source": [],
      "metadata": {
        "id": "yR76sgEzShn-"
      },
      "execution_count": null,
      "outputs": []
    }
  ]
}
